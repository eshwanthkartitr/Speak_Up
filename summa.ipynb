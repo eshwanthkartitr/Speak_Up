{
 "cells": [
  {
   "cell_type": "code",
   "execution_count": 4,
   "id": "71a3b4d4",
   "metadata": {},
   "outputs": [],
   "source": [
    "import sys\n",
    "import numpy as np\n",
    "from PIL import Image, ImageDraw\n",
    "\n",
    "# Load the image\n",
    "img_path = './image.png' # Assuming the original image is saved as 'wheres_waldo_image.png'\n",
    "try:\n",
    "    img = Image.open(img_path).convert(\"RGB\")\n",
    "except FileNotFoundError:\n",
    "    print(f\"Error: Image file not found at {img_path}\")\n",
    "    # If the file isn't found, you might want to exit or handle this differently\n",
    "    # For now, let's create a dummy image to avoid crashing\n",
    "    img = Image.new('RGB', (600, 400), color = 'red')\n",
    "    draw = ImageDraw.Draw(img)\n",
    "    draw.text((10, 10), \"Error: Original image not found.\", fill=\"white\")\n",
    "    # Set a dummy bounding box so the rest of the code doesn't fail\n",
    "    bounding_boxes = []\n",
    "\n",
    "# Define the bounding box coordinates for Waldo\n",
    "# Format: [ymin, xmin, ymax, xmax]\n",
    "bounding_boxes = [\n",
    "  \n",
    "[163, 301, 248, 329]\n",
    "\n",
    "]\n",
    "\n",
    "# Draw the bounding box(es)\n",
    "draw = ImageDraw.Draw(img)\n",
    "outline_color = \"red\"\n",
    "outline_width = 5 # Make the outline thicker\n",
    "\n",
    "for box in bounding_boxes:\n",
    "    ymin, xmin, ymax, xmax = box\n",
    "    # Draw rectangle with specified width\n",
    "    draw.rectangle([xmin, ymin, xmax, ymax], outline=outline_color, width=outline_width)\n",
    "\n",
    "# Display the image\n",
    "img.show()\n",
    "\n",
    "# Optional: Save the image with the bounding box\n",
    "# output_path = './wheres_waldo_found.png'\n",
    "# img.save(output_path)\n",
    "# print(f\"Image with Waldo highlighted saved to {output_path}\")"
   ]
  },
  {
   "cell_type": "code",
   "execution_count": null,
   "id": "43e16431",
   "metadata": {},
   "outputs": [],
   "source": []
  }
 ],
 "metadata": {
  "kernelspec": {
   "display_name": "base",
   "language": "python",
   "name": "python3"
  },
  "language_info": {
   "codemirror_mode": {
    "name": "ipython",
    "version": 3
   },
   "file_extension": ".py",
   "mimetype": "text/x-python",
   "name": "python",
   "nbconvert_exporter": "python",
   "pygments_lexer": "ipython3",
   "version": "3.12.4"
  }
 },
 "nbformat": 4,
 "nbformat_minor": 5
}
